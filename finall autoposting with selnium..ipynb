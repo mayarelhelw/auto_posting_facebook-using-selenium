{
 "cells": [
  {
   "cell_type": "code",
   "execution_count": 5,
   "id": "e93925ac",
   "metadata": {},
   "outputs": [],
   "source": [
    "from selenium import webdriver\n",
    "from selenium.webdriver.common.by import By\n",
    "import time\n",
    "from selenium.webdriver.support.ui import WebDriverWait\n",
    "from selenium.webdriver.support import expected_conditions as EC\n",
    "from selenium.webdriver.common.action_chains import ActionChains\n",
    "\n",
    "\n",
    "driver = webdriver.Firefox()\n",
    "\n",
    "\n",
    "driver.get(\"https://www.facebook.com/\")\n",
    "time.sleep(5)\n",
    "\n",
    "\n",
    "email = driver.find_element(By.ID, \"email\")\n",
    "password = driver.find_element(By.ID, \"pass\")\n",
    "login = driver.find_element(By.NAME, \"login\")  \n",
    "\n",
    "email.send_keys(\"miarelhelw962@yahoo.com\")\n",
    "password.send_keys(\"mIARELHELW123962@..\")\n",
    "time.sleep(2)\n",
    "\n",
    "login.click()\n",
    "time.sleep(5)\n",
    "create_post_button = WebDriverWait(driver, 10).until(\n",
    "    EC.element_to_be_clickable((By.XPATH, \"//span[contains(text(), \\\"What's on your mind\\\")]\"))\n",
    ")\n",
    "driver.execute_script(\"arguments[0].click();\", create_post_button)\n",
    "\n",
    "time.sleep(5)\n",
    "\n",
    "\n",
    "\n",
    "# انتظار ظهور مربع النص\n",
    "text_box = WebDriverWait(driver, 20).until(\n",
    "    EC.presence_of_element_located((\n",
    "        By.XPATH,\n",
    "        \"//div[@role='textbox' and contains(@aria-placeholder, \\\"What's on your mind\\\")]\"\n",
    "    ))\n",
    ")\n",
    "\n",
    "# التأكد من أن العنصر جاهز للكتابة\n",
    "actions = ActionChains(driver)\n",
    "actions.move_to_element(text_box).click().send_keys(\"I am taking an AI course with ENG Ahmed Hafez\").perform()\n",
    "\n",
    "\n",
    "# زر النشر\n",
    "post_button = WebDriverWait(driver, 15).until(\n",
    "    EC.element_to_be_clickable((By.XPATH, \"//span[text()='Post']/ancestor::div[@role='button']\"))\n",
    ")\n",
    "post_button.click()\n"
   ]
  },
  {
   "cell_type": "code",
   "execution_count": null,
   "id": "7bb95e6d",
   "metadata": {},
   "outputs": [],
   "source": []
  }
 ],
 "metadata": {
  "kernelspec": {
   "display_name": "Python 3 (ipykernel)",
   "language": "python",
   "name": "python3"
  },
  "language_info": {
   "codemirror_mode": {
    "name": "ipython",
    "version": 3
   },
   "file_extension": ".py",
   "mimetype": "text/x-python",
   "name": "python",
   "nbconvert_exporter": "python",
   "pygments_lexer": "ipython3",
   "version": "3.9.13"
  }
 },
 "nbformat": 4,
 "nbformat_minor": 5
}
